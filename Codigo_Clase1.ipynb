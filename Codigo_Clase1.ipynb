{
  "nbformat": 4,
  "nbformat_minor": 0,
  "metadata": {
    "colab": {
      "provenance": [],
      "mount_file_id": "1k4eZ3RBeHEqBVKhO8gldemBA5J_dZnwM",
      "authorship_tag": "ABX9TyPni3/IOelkHaDmcbeD+PLs",
      "include_colab_link": true
    },
    "kernelspec": {
      "name": "python3",
      "display_name": "Python 3"
    },
    "language_info": {
      "name": "python"
    }
  },
  "cells": [
    {
      "cell_type": "markdown",
      "metadata": {
        "id": "view-in-github",
        "colab_type": "text"
      },
      "source": [
        "<a href=\"https://colab.research.google.com/github/lkarlos06/test/blob/main/Codigo_Clase1.ipynb\" target=\"_parent\"><img src=\"https://colab.research.google.com/assets/colab-badge.svg\" alt=\"Open In Colab\"/></a>"
      ]
    },
    {
      "cell_type": "markdown",
      "source": [
        "# Ejemplo de instalacion de una libreria en el entorno google colab"
      ],
      "metadata": {
        "id": "XHgj0oxvEOB7"
      }
    },
    {
      "cell_type": "code",
      "source": [
        "!pip install tensorflow\n"
      ],
      "metadata": {
        "colab": {
          "base_uri": "https://localhost:8080/"
        },
        "id": "_DwjcxtSET6Q",
        "outputId": "b368228c-6b69-4dc3-ad00-3ac0402eabc0"
      },
      "execution_count": null,
      "outputs": [
        {
          "output_type": "stream",
          "name": "stdout",
          "text": [
            "Requirement already satisfied: tensorflow in /usr/local/lib/python3.11/dist-packages (2.17.1)\n",
            "Requirement already satisfied: absl-py>=1.0.0 in /usr/local/lib/python3.11/dist-packages (from tensorflow) (1.4.0)\n",
            "Requirement already satisfied: astunparse>=1.6.0 in /usr/local/lib/python3.11/dist-packages (from tensorflow) (1.6.3)\n",
            "Requirement already satisfied: flatbuffers>=24.3.25 in /usr/local/lib/python3.11/dist-packages (from tensorflow) (24.12.23)\n",
            "Requirement already satisfied: gast!=0.5.0,!=0.5.1,!=0.5.2,>=0.2.1 in /usr/local/lib/python3.11/dist-packages (from tensorflow) (0.6.0)\n",
            "Requirement already satisfied: google-pasta>=0.1.1 in /usr/local/lib/python3.11/dist-packages (from tensorflow) (0.2.0)\n",
            "Requirement already satisfied: h5py>=3.10.0 in /usr/local/lib/python3.11/dist-packages (from tensorflow) (3.12.1)\n",
            "Requirement already satisfied: libclang>=13.0.0 in /usr/local/lib/python3.11/dist-packages (from tensorflow) (18.1.1)\n",
            "Requirement already satisfied: ml-dtypes<0.5.0,>=0.3.1 in /usr/local/lib/python3.11/dist-packages (from tensorflow) (0.4.1)\n",
            "Requirement already satisfied: opt-einsum>=2.3.2 in /usr/local/lib/python3.11/dist-packages (from tensorflow) (3.4.0)\n",
            "Requirement already satisfied: packaging in /usr/local/lib/python3.11/dist-packages (from tensorflow) (24.2)\n",
            "Requirement already satisfied: protobuf!=4.21.0,!=4.21.1,!=4.21.2,!=4.21.3,!=4.21.4,!=4.21.5,<5.0.0dev,>=3.20.3 in /usr/local/lib/python3.11/dist-packages (from tensorflow) (4.25.5)\n",
            "Requirement already satisfied: requests<3,>=2.21.0 in /usr/local/lib/python3.11/dist-packages (from tensorflow) (2.32.3)\n",
            "Requirement already satisfied: setuptools in /usr/local/lib/python3.11/dist-packages (from tensorflow) (75.1.0)\n",
            "Requirement already satisfied: six>=1.12.0 in /usr/local/lib/python3.11/dist-packages (from tensorflow) (1.17.0)\n",
            "Requirement already satisfied: termcolor>=1.1.0 in /usr/local/lib/python3.11/dist-packages (from tensorflow) (2.5.0)\n",
            "Requirement already satisfied: typing-extensions>=3.6.6 in /usr/local/lib/python3.11/dist-packages (from tensorflow) (4.12.2)\n",
            "Requirement already satisfied: wrapt>=1.11.0 in /usr/local/lib/python3.11/dist-packages (from tensorflow) (1.17.0)\n",
            "Requirement already satisfied: grpcio<2.0,>=1.24.3 in /usr/local/lib/python3.11/dist-packages (from tensorflow) (1.69.0)\n",
            "Requirement already satisfied: tensorboard<2.18,>=2.17 in /usr/local/lib/python3.11/dist-packages (from tensorflow) (2.17.1)\n",
            "Requirement already satisfied: keras>=3.2.0 in /usr/local/lib/python3.11/dist-packages (from tensorflow) (3.5.0)\n",
            "Requirement already satisfied: tensorflow-io-gcs-filesystem>=0.23.1 in /usr/local/lib/python3.11/dist-packages (from tensorflow) (0.37.1)\n",
            "Requirement already satisfied: numpy<2.0.0,>=1.23.5 in /usr/local/lib/python3.11/dist-packages (from tensorflow) (1.26.4)\n",
            "Requirement already satisfied: wheel<1.0,>=0.23.0 in /usr/local/lib/python3.11/dist-packages (from astunparse>=1.6.0->tensorflow) (0.45.1)\n",
            "Requirement already satisfied: rich in /usr/local/lib/python3.11/dist-packages (from keras>=3.2.0->tensorflow) (13.9.4)\n",
            "Requirement already satisfied: namex in /usr/local/lib/python3.11/dist-packages (from keras>=3.2.0->tensorflow) (0.0.8)\n",
            "Requirement already satisfied: optree in /usr/local/lib/python3.11/dist-packages (from keras>=3.2.0->tensorflow) (0.13.1)\n",
            "Requirement already satisfied: charset-normalizer<4,>=2 in /usr/local/lib/python3.11/dist-packages (from requests<3,>=2.21.0->tensorflow) (3.4.1)\n",
            "Requirement already satisfied: idna<4,>=2.5 in /usr/local/lib/python3.11/dist-packages (from requests<3,>=2.21.0->tensorflow) (3.10)\n",
            "Requirement already satisfied: urllib3<3,>=1.21.1 in /usr/local/lib/python3.11/dist-packages (from requests<3,>=2.21.0->tensorflow) (2.3.0)\n",
            "Requirement already satisfied: certifi>=2017.4.17 in /usr/local/lib/python3.11/dist-packages (from requests<3,>=2.21.0->tensorflow) (2024.12.14)\n",
            "Requirement already satisfied: markdown>=2.6.8 in /usr/local/lib/python3.11/dist-packages (from tensorboard<2.18,>=2.17->tensorflow) (3.7)\n",
            "Requirement already satisfied: tensorboard-data-server<0.8.0,>=0.7.0 in /usr/local/lib/python3.11/dist-packages (from tensorboard<2.18,>=2.17->tensorflow) (0.7.2)\n",
            "Requirement already satisfied: werkzeug>=1.0.1 in /usr/local/lib/python3.11/dist-packages (from tensorboard<2.18,>=2.17->tensorflow) (3.1.3)\n",
            "Requirement already satisfied: MarkupSafe>=2.1.1 in /usr/local/lib/python3.11/dist-packages (from werkzeug>=1.0.1->tensorboard<2.18,>=2.17->tensorflow) (3.0.2)\n",
            "Requirement already satisfied: markdown-it-py>=2.2.0 in /usr/local/lib/python3.11/dist-packages (from rich->keras>=3.2.0->tensorflow) (3.0.0)\n",
            "Requirement already satisfied: pygments<3.0.0,>=2.13.0 in /usr/local/lib/python3.11/dist-packages (from rich->keras>=3.2.0->tensorflow) (2.18.0)\n",
            "Requirement already satisfied: mdurl~=0.1 in /usr/local/lib/python3.11/dist-packages (from markdown-it-py>=2.2.0->rich->keras>=3.2.0->tensorflow) (0.1.2)\n"
          ]
        }
      ]
    },
    {
      "cell_type": "markdown",
      "source": [
        "# Ejemplo de uso del print en Google colab"
      ],
      "metadata": {
        "id": "rSP2tCdCE2Vh"
      }
    },
    {
      "cell_type": "code",
      "source": [
        "# Información personal\n",
        "print(\"Nombre: Luis\")\n",
        "print(\"Edad: 30\")\n",
        "print(\"Ocupación: Profesor\")\n"
      ],
      "metadata": {
        "colab": {
          "base_uri": "https://localhost:8080/"
        },
        "id": "dMHA8YBHEeQU",
        "outputId": "9ab7fa99-c926-4e62-cdf1-d5fe7a0323af"
      },
      "execution_count": null,
      "outputs": [
        {
          "output_type": "stream",
          "name": "stdout",
          "text": [
            "Nombre: Luis\n",
            "Edad: 30\n",
            "Ocupación: Profesor\n"
          ]
        }
      ]
    },
    {
      "cell_type": "markdown",
      "source": [
        "# **Ejemplo del For en colab**"
      ],
      "metadata": {
        "id": "13F5qac9Gcxm"
      }
    },
    {
      "cell_type": "code",
      "source": [
        "# Lista de frutas\n",
        "frutas = [\"manzana\", \"banana\", \"cereza\", \"kiwi\", \"naranja\"]\n",
        "\n",
        "# Recorrido usando for\n",
        "for fruta in frutas:\n",
        "    print(fruta)\n",
        "\n",
        "# Calcular suma del 1 al 100\n",
        "suma = 0\n",
        "for i in range(1, 101):\n",
        "    suma += i\n",
        "\n",
        "print(\"La suma de los números del 1 al 100 es:\", suma)\n",
        "\n"
      ],
      "metadata": {
        "colab": {
          "base_uri": "https://localhost:8080/"
        },
        "id": "2Uu4_FDEGoXo",
        "outputId": "b7e7e673-0712-499b-ebc2-8eb03f30bedc"
      },
      "execution_count": null,
      "outputs": [
        {
          "output_type": "stream",
          "name": "stdout",
          "text": [
            "manzana\n",
            "banana\n",
            "cereza\n",
            "kiwi\n",
            "naranja\n",
            "La suma de los números del 1 al 100 es: 5050\n"
          ]
        }
      ]
    },
    {
      "cell_type": "markdown",
      "source": [
        "# **Ejercicios con while**"
      ],
      "metadata": {
        "id": "WLNssrG-HaVS"
      }
    },
    {
      "cell_type": "code",
      "source": [
        "numero = 10\n",
        "while numero > 0:\n",
        "    print(numero)\n",
        "    numero -= 1\n",
        "#*************************\n",
        "# Adivina el número secreto\n",
        "numero_secreto = 7\n",
        "adivinado = False\n",
        "\n",
        "while not adivinado:\n",
        "    intento = int(input(\"Adivina el número secreto: \"))\n",
        "    if intento == numero_secreto:\n",
        "        print(\"¡Correcto! Adivinaste el número.\")\n",
        "        adivinado = True\n",
        "    else:\n",
        "        print(\"Intenta de nuevo.\")\n"
      ],
      "metadata": {
        "colab": {
          "base_uri": "https://localhost:8080/"
        },
        "id": "QPj8F3hIHuEE",
        "outputId": "e50dda66-6712-4981-c062-f26af5a20477"
      },
      "execution_count": null,
      "outputs": [
        {
          "output_type": "stream",
          "name": "stdout",
          "text": [
            "10\n",
            "9\n",
            "8\n",
            "7\n",
            "6\n",
            "5\n",
            "4\n",
            "3\n",
            "2\n",
            "1\n",
            "Adivina el número secreto: 5\n",
            "Intenta de nuevo.\n",
            "Adivina el número secreto: 7\n",
            "¡Correcto! Adivinaste el número.\n"
          ]
        }
      ]
    },
    {
      "cell_type": "markdown",
      "source": [
        "# **Ejercicios con funciones**"
      ],
      "metadata": {
        "id": "VCLhAhzQI3c4"
      }
    },
    {
      "cell_type": "code",
      "source": [
        "# Definición de la función saludar\n",
        "def saludar(nombre):\n",
        "    return f\"Hola, {nombre}!\"\n",
        "\n",
        "# Llamada a la función\n",
        "print(saludar(\"Luis\"))\n",
        "###*************************************\n",
        "# Definición de la función promedio\n",
        "def promedio(numeros):\n",
        "    return sum(numeros) / len(numeros)\n",
        "\n",
        "# Uso de la función\n",
        "lista_numeros = [5, 10, 15, 20]\n",
        "print(\"El promedio es:\", promedio(lista_numeros))\n",
        "\n",
        "\n"
      ],
      "metadata": {
        "colab": {
          "base_uri": "https://localhost:8080/"
        },
        "id": "-q2H0h5UHv35",
        "outputId": "7ec8b866-1db9-47c9-9a47-5ce3f50975ca"
      },
      "execution_count": null,
      "outputs": [
        {
          "output_type": "stream",
          "name": "stdout",
          "text": [
            "Hola, Luis!\n",
            "El promedio es: 12.5\n"
          ]
        }
      ]
    },
    {
      "cell_type": "markdown",
      "source": [
        "# **Ejercicios con listas**"
      ],
      "metadata": {
        "id": "YCdVm6sbKgYQ"
      }
    },
    {
      "cell_type": "code",
      "source": [
        "# Lista de colores\n",
        "colores = [\"rojo\", \"azul\", \"verde\", \"amarillo\", \"morado\"]\n",
        "\n",
        "# Imprimir colores en mayúsculas\n",
        "for color in colores:\n",
        "    print(color.upper())\n",
        "\n",
        "    ###*************************************\n",
        "\n",
        "# Eliminar el mayor y menor valor\n",
        "numeros = [4, 7, 2, 8, 10, 15]\n",
        "numeros.remove(max(numeros))\n",
        "numeros.remove(min(numeros))\n",
        "print(\"Lista después de eliminar mayor y menor:\", numeros)\n"
      ],
      "metadata": {
        "colab": {
          "base_uri": "https://localhost:8080/"
        },
        "id": "hCEpiJG_Kj4Z",
        "outputId": "06dce806-5cf6-41aa-a6a8-1671e968a04a"
      },
      "execution_count": null,
      "outputs": [
        {
          "output_type": "stream",
          "name": "stdout",
          "text": [
            "ROJO\n",
            "AZUL\n",
            "VERDE\n",
            "AMARILLO\n",
            "MORADO\n",
            "Lista después de eliminar mayor y menor: [4, 7, 8, 10]\n"
          ]
        }
      ]
    },
    {
      "cell_type": "markdown",
      "source": [
        "# **Ejercicios con diccionarios**"
      ],
      "metadata": {
        "id": "c0DjmMnuKqcN"
      }
    },
    {
      "cell_type": "code",
      "source": [
        "# Diccionario de estudiante\n",
        "estudiante = {\n",
        "    \"Nombre\": \"Luis\",\n",
        "    \"Edad\": 30,\n",
        "    \"Carrera\": \"Mecatrónica\"\n",
        "}\n",
        "\n",
        "# Recorrer claves y valores\n",
        "for clave, valor in estudiante.items():\n",
        "    print(f\"{clave}: {valor}\")\n",
        "\n",
        "# Promedio de calificaciones\n",
        "alumnos = {\"Luis\": 90, \"Ana\": 85, \"Carlos\": 78}\n",
        "promedio = sum(alumnos.values()) / len(alumnos)\n",
        "print(\"El promedio de las calificaciones es:\", promedio)\n"
      ],
      "metadata": {
        "colab": {
          "base_uri": "https://localhost:8080/"
        },
        "id": "fOqUr0sBLEeB",
        "outputId": "d608af37-cd90-42d2-e0c1-4870072607d6"
      },
      "execution_count": null,
      "outputs": [
        {
          "output_type": "stream",
          "name": "stdout",
          "text": [
            "Nombre: Luis\n",
            "Edad: 30\n",
            "Carrera: Mecatrónica\n",
            "El promedio de las calificaciones es: 84.33333333333333\n"
          ]
        }
      ]
    },
    {
      "cell_type": "markdown",
      "source": [
        "# **Ejercicios con tuplas**"
      ],
      "metadata": {
        "id": "pvHPMyVgLInL"
      }
    },
    {
      "cell_type": "code",
      "source": [
        "# Tupla de estaciones\n",
        "estaciones = (\"Primavera\", \"Verano\", \"Otoño\", \"Invierno\")\n",
        "\n",
        "# Recorrido con bucle\n",
        "for estacion in estaciones:\n",
        "    print(estacion)\n",
        "\n",
        "# Crear nueva tupla con valores al cuadrado\n",
        "valores = (10, 20, 30, 40, 50)\n",
        "valores_cuadrado = tuple(v**2 for v in valores)\n",
        "print(\"Tupla original:\", valores)\n",
        "print(\"Tupla con valores al cuadrado:\", valores_cuadrado)\n"
      ],
      "metadata": {
        "id": "uPF1wddgLrMU",
        "outputId": "21cba377-843c-4039-80a5-113c5153b5f6",
        "colab": {
          "base_uri": "https://localhost:8080/"
        }
      },
      "execution_count": null,
      "outputs": [
        {
          "output_type": "stream",
          "name": "stdout",
          "text": [
            "Primavera\n",
            "Verano\n",
            "Otoño\n",
            "Invierno\n",
            "Tupla original: (10, 20, 30, 40, 50)\n",
            "Tupla con valores al cuadrado: (100, 400, 900, 1600, 2500)\n"
          ]
        }
      ]
    }
  ]
}